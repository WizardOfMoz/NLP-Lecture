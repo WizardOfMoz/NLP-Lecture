{
  "cells": [
    {
      "cell_type": "code",
      "execution_count": 1,
      "metadata": {
        "id": "r3qrDRU42xN9"
      },
      "outputs": [],
      "source": [
        "import re\n",
        "import pandas as pd\n",
        "import numpy as np"
      ]
    },
    {
      "cell_type": "markdown",
      "metadata": {
        "id": "oKVS0VTg2zxG"
      },
      "source": [
        "##Pre-processing"
      ]
    },
    {
      "cell_type": "code",
      "execution_count": 3,
      "metadata": {
        "id": "FBr6kNUIIP8v"
      },
      "outputs": [],
      "source": [
        "df = pd.read_csv('/content/drive/MyDrive/NLP Assignments/A1_dataset.csv')"
      ]
    },
    {
      "cell_type": "code",
      "execution_count": 4,
      "metadata": {
        "colab": {
          "base_uri": "https://localhost:8080/"
        },
        "id": "LXk0JR775BfJ",
        "outputId": "d65d88ea-573b-4eff-8dae-f4f5282c4890"
      },
      "outputs": [
        {
          "name": "stderr",
          "output_type": "stream",
          "text": [
            "[nltk_data] Downloading package averaged_perceptron_tagger to\n",
            "[nltk_data]     /root/nltk_data...\n",
            "[nltk_data]   Unzipping taggers/averaged_perceptron_tagger.zip.\n",
            "[nltk_data] Downloading package wordnet to /root/nltk_data...\n",
            "[nltk_data] Downloading package omw-1.4 to /root/nltk_data...\n"
          ]
        }
      ],
      "source": [
        "#download\n",
        "import spacy\n",
        "nlp = spacy.load(\"en_core_web_sm\")\n",
        "from nltk.stem import PorterStemmer\n",
        "stemmer = PorterStemmer()\n",
        "from nltk.stem import WordNetLemmatizer\n",
        "lemmatizer = WordNetLemmatizer()\n",
        "import nltk\n",
        "nltk.download('averaged_perceptron_tagger')\n",
        "# !pip install contextualSpellCheck\n",
        "# import contextualSpellCheck\n",
        "# nlp_2 = spacy.load('en_core_web_sm')\n",
        "# contextualSpellCheck.add_to_pipe(nlp_2)\n",
        "from nltk.tokenize.treebank import TreebankWordDetokenizer\n",
        "nltk.download('wordnet')\n",
        "nltk.download('omw-1.4')\n",
        "from nltk.corpus import wordnet\n"
      ]
    },
    {
      "cell_type": "code",
      "execution_count": 5,
      "metadata": {
        "id": "_UnpK7iYOCr7"
      },
      "outputs": [],
      "source": [
        "def pos_tagger(nltk_tag):\n",
        "    if nltk_tag.startswith('J'):\n",
        "        return wordnet.ADJ\n",
        "    elif nltk_tag.startswith('V'):\n",
        "        return wordnet.VERB\n",
        "    elif nltk_tag.startswith('N'):\n",
        "        return wordnet.NOUN\n",
        "    elif nltk_tag.startswith('R'):\n",
        "        return wordnet.ADV\n",
        "    else:         \n",
        "        return None"
      ]
    },
    {
      "cell_type": "code",
      "execution_count": 6,
      "metadata": {
        "id": "GOVbcVNHDiR6"
      },
      "outputs": [],
      "source": [
        "stop_list=['i', 'me', 'my', 'myself', 'we', 'our', 'ours', 'ourselves', 'you', \"you're\", \"you've\", \"you'll\", \"you'd\", 'your', 'yours', 'yourself', 'yourselves', 'he', 'him', 'his', 'himself', 'she', \"she's\", 'her', 'hers', 'herself', 'it', \"it's\", 'its', 'itself', 'they', 'them', 'their', 'theirs', 'themselves', 'what', 'which', 'who', 'whom', 'this', 'that', \"that'll\", 'these', 'those', 'am', 'is', 'are', 'was', 'were', 'be', 'been', 'being', 'have', 'has', 'had', 'having', 'do', 'does', 'did', 'doing', 'a', 'an', 'the', 'and', 'but', 'if', 'or', 'because', 'as', 'until', 'while', 'of', 'at', 'by', 'for', 'with', 'about', 'against', 'between', 'into', 'through', 'during', 'before', 'after', 'above', 'below', 'to', 'from', 'up', 'down', 'in', 'out', 'on', 'off', 'over', 'under', 'again', 'further', 'then', 'once', 'here', 'there', 'when', 'where', 'why', 'how', 'all', 'any', 'both', 'each', 'few', 'more', 'most', 'other', 'some', 'such', 'no', 'nor', 'not', 'only', 'own', 'same', 'so', 'than', 'too', 'very', 's', 't', 'can', 'will', 'just', 'don', \"don't\", 'should', \"should've\", 'now', 'd', 'll', 'm', 'o', 're', 've', 'y', 'ain', 'aren', \"aren't\", 'couldn', \"couldn't\", 'didn', \"didn't\", 'doesn', \"doesn't\", 'hadn', \"hadn't\", 'hasn', \"hasn't\", 'haven', \"haven't\", 'isn', \"isn't\", 'ma', 'mightn', \"mightn't\", 'mustn', \"mustn't\", 'needn', \"needn't\", 'shan', \"shan't\", 'shouldn', \"shouldn't\", 'wasn', \"wasn't\", 'weren', \"weren't\", 'won', \"won't\", 'wouldn', \"wouldn't\"]"
      ]
    },
    {
      "cell_type": "code",
      "execution_count": 50,
      "metadata": {
        "id": "49rsEUp78zQB"
      },
      "outputs": [],
      "source": [
        "def processing(sentence, verbose=False):\n",
        "  # Text_org = df.loc[i, \"TEXT\"]\n",
        "  p = re.compile(r'<.*?>')\n",
        "  rmhtml_Text=p.sub('',sentence)  #remove HTML Tags\n",
        "  # rmurl_Text = re.sub(r'http\\S+|https:\\S+|www\\S+|.com\\S+', '', rmhtml_Text) #remove URL tags\n",
        "  pre_url = r'(?:https?://)|(?:www\\.)'\n",
        "  url_set = r'[\\w+=?/._\\-:;&*^$#@~`!|]'\n",
        "  rmurl_Text=re.sub(f'(?:{pre_url}){url_set}+|{url_set}+\\.com{url_set}*', '',rmhtml_Text)\n",
        "  # rmusername_Text= re.sub('@[^\\s]+','',rmurl_Text)#remove usernames\n",
        "  rmwhite_Text=re.sub(' +', ' ',rmurl_Text) #remove extra whitespace\n",
        "  token_text=[token.text for token in nlp(rmwhite_Text)]#tokenize text \n",
        "  rmpunt_text=[word for word in token_text if word.isalnum()] #punctuation and username removal\n",
        "  token_pos=nltk.pos_tag(rmpunt_text)\n",
        "  lem_text=[]\n",
        "  # print(token_pos)\n",
        "  for word in token_pos:\n",
        "        pos = pos_tagger(word[1])\n",
        "        if pos:\n",
        "          lem_text.append(lemmatizer.lemmatize(word[0], pos)) #lemmatize word based on part-of-speech tagging\n",
        "        else:\n",
        "          lem_text.append(lemmatizer.lemmatize(word[0])) #lemmatize word without part-of-speech tagging\n",
        "  # stem_text= [stemmer.stem(word) for word in rmpunt_text]#stemming\n",
        "  # lem_text= [lemmatizer.lemmatize(word)for word in rmpunt_text] \n",
        "  rmstop_text=[i for i in lem_text if i not in stop_list]#removing stop words\n",
        "  if len(rmstop_text)==0:\n",
        "    rmstop_text= ['<s>','</s>']\n",
        "  if rmstop_text[0] != '<s>' and len(rmstop_text)!=0:\n",
        "    rmstop_text.insert(0, '<s>')\n",
        "  if rmstop_text[-1] != '</s>' and len(rmstop_text)!=0:\n",
        "    rmstop_text.append('</s>')\n",
        "  \n",
        "  sentence=TreebankWordDetokenizer().detokenize(rmstop_text) #convert to sentence \n",
        "  # print(sentence)\n",
        "  \n",
        "  if verbose:\n",
        "    print(f'Removing HTML tags:{rmhtml_Text}')\n",
        "    print(f'Removing URL tags:{rmurl_Text}')\n",
        "    # print(f'Removing username: {rmusername_Text}')\n",
        "    print(f'Removing whitespace:{rmwhite_Text}')\n",
        "    print(f'Tokenize Text :{token_text}')\n",
        "    print(f'Punctuation removal: {rmpunt_text}')\n",
        "    print(f'Lemmatize Text :{lem_text}')\n",
        "    print(f'Removing stop words Text :{rmstop_text}')\n",
        "    # print(f'Spelling correction :{autospell(sentence)}')\n",
        "    print(token_text)\n",
        "  return sentence"
      ]
    },
    {
      "cell_type": "code",
      "execution_count": 51,
      "metadata": {
        "colab": {
          "base_uri": "https://localhost:8080/",
          "height": 199
        },
        "id": "zUYQse8J24RF",
        "outputId": "a3342ca1-4b6e-4edd-9de8-fa0b9e62c10f"
      },
      "outputs": [
        {
          "name": "stdout",
          "output_type": "stream",
          "text": [
            "Removing HTML tags: /// http://bit.ly/etD3a /// @Luke Oh Luke  , why don't you answer me? pleease try it . Love your music ! Hear it the whole day, really trying !   \n",
            "Removing URL tags: ///  /// @Luke Oh Luke  , why don't you answer me? pleease try it . Love your music ! Hear it the whole day, really trying !   \n",
            "Removing whitespace: /// /// @Luke Oh Luke , why don't you answer me? pleease try it . Love your music ! Hear it the whole day, really trying ! \n",
            "Tokenize Text :[' ', '///', '///', '@Luke', 'Oh', 'Luke', ',', 'why', 'do', \"n't\", 'you', 'answer', 'me', '?', 'pleease', 'try', 'it', '.', 'Love', 'your', 'music', '!', 'Hear', 'it', 'the', 'whole', 'day', ',', 'really', 'trying', '!']\n",
            "Punctuation removal: ['Oh', 'Luke', 'why', 'do', 'you', 'answer', 'me', 'pleease', 'try', 'it', 'Love', 'your', 'music', 'Hear', 'it', 'the', 'whole', 'day', 'really', 'trying']\n",
            "Lemmatize Text :['Oh', 'Luke', 'why', 'do', 'you', 'answer', 'me', 'pleease', 'try', 'it', 'Love', 'your', 'music', 'Hear', 'it', 'the', 'whole', 'day', 'really', 'try']\n",
            "Removing stop words Text :['<s>', 'Oh', 'Luke', 'answer', 'pleease', 'try', 'Love', 'music', 'Hear', 'whole', 'day', 'really', 'try', '</s>']\n",
            "[' ', '///', '///', '@Luke', 'Oh', 'Luke', ',', 'why', 'do', \"n't\", 'you', 'answer', 'me', '?', 'pleease', 'try', 'it', '.', 'Love', 'your', 'music', '!', 'Hear', 'it', 'the', 'whole', 'day', ',', 'really', 'trying', '!']\n"
          ]
        },
        {
          "data": {
            "application/vnd.google.colaboratory.intrinsic+json": {
              "type": "string"
            },
            "text/plain": [
              "'<s> Oh Luke answer pleease try Love music Hear whole day really try </s>'"
            ]
          },
          "execution_count": 51,
          "metadata": {},
          "output_type": "execute_result"
        }
      ],
      "source": [
        "test=\"</a> /// http://bit.ly/etD3a /// @Luke Oh Luke  , why don't you answer me? pleease try it . Love your music ! Hear it the whole day, really trying !   \"\n",
        "processing(test, verbose=True)"
      ]
    },
    {
      "cell_type": "code",
      "execution_count": 52,
      "metadata": {
        "id": "4VwbXuS024Nr"
      },
      "outputs": [],
      "source": [
        "data=df.apply(lambda row: processing(row.TEXT,verbose=False),axis=1)"
      ]
    },
    {
      "cell_type": "code",
      "execution_count": null,
      "metadata": {
        "id": "c2RGc-WOXWcw"
      },
      "outputs": [],
      "source": [
        "data"
      ]
    },
    {
      "cell_type": "code",
      "execution_count": 54,
      "metadata": {
        "id": "Ux8TRHGdOkaQ"
      },
      "outputs": [],
      "source": [
        "df['NEW_TEXT']=data"
      ]
    },
    {
      "cell_type": "code",
      "execution_count": 55,
      "metadata": {
        "id": "ucGbKEYOWle4"
      },
      "outputs": [],
      "source": [
        "df.to_csv('A2_dataset_processed.csv')"
      ]
    },
    {
      "cell_type": "markdown",
      "metadata": {
        "id": "9a6X8d5GW-KV"
      },
      "source": [
        "##Q1"
      ]
    },
    {
      "cell_type": "code",
      "execution_count": 56,
      "metadata": {
        "id": "MKtosF_EW_f-"
      },
      "outputs": [],
      "source": [
        "processed_df =pd.read_csv('/content/drive/MyDrive/NLP Assignments/A2_dataset_processed.csv')"
      ]
    },
    {
      "cell_type": "code",
      "execution_count": null,
      "metadata": {
        "id": "RKhyk-OGYva6"
      },
      "outputs": [],
      "source": [
        "processed_df['NEW_TEXT']"
      ]
    },
    {
      "cell_type": "markdown",
      "metadata": {
        "id": "rEkaNUCL216z"
      },
      "source": [
        "##Q2"
      ]
    }
  ],
  "metadata": {
    "colab": {
      "collapsed_sections": [],
      "provenance": []
    },
    "kernelspec": {
      "display_name": "Python 3.9.9 64-bit",
      "language": "python",
      "name": "python3"
    },
    "language_info": {
      "name": "python",
      "version": "3.9.9"
    },
    "vscode": {
      "interpreter": {
        "hash": "b0fa6594d8f4cbf19f97940f81e996739fb7646882a419484c72d19e05852a7e"
      }
    }
  },
  "nbformat": 4,
  "nbformat_minor": 0
}
